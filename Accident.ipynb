{
 "cells": [
  {
   "cell_type": "markdown",
   "id": "5dd4d508-7bf5-4a62-8c85-e13f71c74fdb",
   "metadata": {},
   "source": [
    "<h1>UK Road Accidents Data Analysis</h1>\n",
    "<hr>\n",
    "<h2>Data Analyst: Kim Andrei D. Lugatoc</h2>"
   ]
  },
  {
   "cell_type": "markdown",
   "id": "f45c53e9-1c9b-4c73-aab7-6ba87c76b3f3",
   "metadata": {},
   "source": [
    "<h2>Import Libraries</h2>"
   ]
  },
  {
   "cell_type": "code",
   "execution_count": 1,
   "id": "82b4fe22-2e5a-42cb-8b85-589df5122584",
   "metadata": {},
   "outputs": [],
   "source": [
    "import numpy as np \n",
    "import matplotlib.pyplot as plt\n",
    "import pandas as pd\n",
    "import warnings\n",
    "warnings.filterwarnings('ignore')"
   ]
  },
  {
   "cell_type": "markdown",
   "id": "6c5af0af-667d-40c6-b49e-42343c9508b6",
   "metadata": {},
   "source": [
    "<h2>Load dataset</h2>"
   ]
  },
  {
   "cell_type": "code",
   "execution_count": 3,
   "id": "58fb87ab-c5e4-4c11-bca9-415aa3c43a93",
   "metadata": {},
   "outputs": [
    {
     "data": {
      "text/html": [
       "<div>\n",
       "<style scoped>\n",
       "    .dataframe tbody tr th:only-of-type {\n",
       "        vertical-align: middle;\n",
       "    }\n",
       "\n",
       "    .dataframe tbody tr th {\n",
       "        vertical-align: top;\n",
       "    }\n",
       "\n",
       "    .dataframe thead th {\n",
       "        text-align: right;\n",
       "    }\n",
       "</style>\n",
       "<table border=\"1\" class=\"dataframe\">\n",
       "  <thead>\n",
       "    <tr style=\"text-align: right;\">\n",
       "      <th></th>\n",
       "      <th>Index</th>\n",
       "      <th>Accident_Severity</th>\n",
       "      <th>Accident Date</th>\n",
       "      <th>Latitude</th>\n",
       "      <th>Light_Conditions</th>\n",
       "      <th>District Area</th>\n",
       "      <th>Longitude</th>\n",
       "      <th>Number_of_Casualties</th>\n",
       "      <th>Number_of_Vehicles</th>\n",
       "      <th>Road_Surface_Conditions</th>\n",
       "      <th>Road_Type</th>\n",
       "      <th>Urban_or_Rural_Area</th>\n",
       "      <th>Weather_Conditions</th>\n",
       "      <th>Vehicle_Type</th>\n",
       "    </tr>\n",
       "  </thead>\n",
       "  <tbody>\n",
       "    <tr>\n",
       "      <th>0</th>\n",
       "      <td>200701BS64157</td>\n",
       "      <td>Serious</td>\n",
       "      <td>5/6/2019</td>\n",
       "      <td>51.506187</td>\n",
       "      <td>Darkness - lights lit</td>\n",
       "      <td>Kensington and Chelsea</td>\n",
       "      <td>-0.209082</td>\n",
       "      <td>1</td>\n",
       "      <td>2</td>\n",
       "      <td>Dry</td>\n",
       "      <td>Single carriageway</td>\n",
       "      <td>Urban</td>\n",
       "      <td>Fine no high winds</td>\n",
       "      <td>Car</td>\n",
       "    </tr>\n",
       "    <tr>\n",
       "      <th>1</th>\n",
       "      <td>200701BS65737</td>\n",
       "      <td>Serious</td>\n",
       "      <td>2/7/2019</td>\n",
       "      <td>51.495029</td>\n",
       "      <td>Daylight</td>\n",
       "      <td>Kensington and Chelsea</td>\n",
       "      <td>-0.173647</td>\n",
       "      <td>1</td>\n",
       "      <td>2</td>\n",
       "      <td>Wet or damp</td>\n",
       "      <td>Single carriageway</td>\n",
       "      <td>Urban</td>\n",
       "      <td>Raining no high winds</td>\n",
       "      <td>Car</td>\n",
       "    </tr>\n",
       "    <tr>\n",
       "      <th>2</th>\n",
       "      <td>200701BS66127</td>\n",
       "      <td>Serious</td>\n",
       "      <td>26-08-2019</td>\n",
       "      <td>51.517715</td>\n",
       "      <td>Darkness - lighting unknown</td>\n",
       "      <td>Kensington and Chelsea</td>\n",
       "      <td>-0.210215</td>\n",
       "      <td>1</td>\n",
       "      <td>3</td>\n",
       "      <td>Dry</td>\n",
       "      <td>NaN</td>\n",
       "      <td>Urban</td>\n",
       "      <td>NaN</td>\n",
       "      <td>Taxi/Private hire car</td>\n",
       "    </tr>\n",
       "    <tr>\n",
       "      <th>3</th>\n",
       "      <td>200701BS66128</td>\n",
       "      <td>Serious</td>\n",
       "      <td>16-08-2019</td>\n",
       "      <td>51.495478</td>\n",
       "      <td>Daylight</td>\n",
       "      <td>Kensington and Chelsea</td>\n",
       "      <td>-0.202731</td>\n",
       "      <td>1</td>\n",
       "      <td>4</td>\n",
       "      <td>Dry</td>\n",
       "      <td>Single carriageway</td>\n",
       "      <td>Urban</td>\n",
       "      <td>Fine no high winds</td>\n",
       "      <td>Bus or coach (17 or more pass seats)</td>\n",
       "    </tr>\n",
       "    <tr>\n",
       "      <th>4</th>\n",
       "      <td>200701BS66837</td>\n",
       "      <td>Slight</td>\n",
       "      <td>3/9/2019</td>\n",
       "      <td>51.488576</td>\n",
       "      <td>Darkness - lights lit</td>\n",
       "      <td>Kensington and Chelsea</td>\n",
       "      <td>-0.192487</td>\n",
       "      <td>1</td>\n",
       "      <td>2</td>\n",
       "      <td>Dry</td>\n",
       "      <td>NaN</td>\n",
       "      <td>Urban</td>\n",
       "      <td>NaN</td>\n",
       "      <td>Other vehicle</td>\n",
       "    </tr>\n",
       "    <tr>\n",
       "      <th>...</th>\n",
       "      <td>...</td>\n",
       "      <td>...</td>\n",
       "      <td>...</td>\n",
       "      <td>...</td>\n",
       "      <td>...</td>\n",
       "      <td>...</td>\n",
       "      <td>...</td>\n",
       "      <td>...</td>\n",
       "      <td>...</td>\n",
       "      <td>...</td>\n",
       "      <td>...</td>\n",
       "      <td>...</td>\n",
       "      <td>...</td>\n",
       "      <td>...</td>\n",
       "    </tr>\n",
       "    <tr>\n",
       "      <th>660674</th>\n",
       "      <td>201091NM01760</td>\n",
       "      <td>Slight</td>\n",
       "      <td>18-02-2022</td>\n",
       "      <td>57.374005</td>\n",
       "      <td>Daylight</td>\n",
       "      <td>Highland</td>\n",
       "      <td>-3.467828</td>\n",
       "      <td>2</td>\n",
       "      <td>1</td>\n",
       "      <td>Dry</td>\n",
       "      <td>Single carriageway</td>\n",
       "      <td>Rural</td>\n",
       "      <td>Fine no high winds</td>\n",
       "      <td>Car</td>\n",
       "    </tr>\n",
       "    <tr>\n",
       "      <th>660675</th>\n",
       "      <td>201091NM01881</td>\n",
       "      <td>Slight</td>\n",
       "      <td>21-02-2022</td>\n",
       "      <td>57.232273</td>\n",
       "      <td>Darkness - no lighting</td>\n",
       "      <td>Highland</td>\n",
       "      <td>-3.809281</td>\n",
       "      <td>1</td>\n",
       "      <td>1</td>\n",
       "      <td>Frost or ice</td>\n",
       "      <td>Single carriageway</td>\n",
       "      <td>Rural</td>\n",
       "      <td>Fine no high winds</td>\n",
       "      <td>Car</td>\n",
       "    </tr>\n",
       "    <tr>\n",
       "      <th>660676</th>\n",
       "      <td>201091NM01935</td>\n",
       "      <td>Slight</td>\n",
       "      <td>23-02-2022</td>\n",
       "      <td>57.585044</td>\n",
       "      <td>Daylight</td>\n",
       "      <td>Highland</td>\n",
       "      <td>-3.862727</td>\n",
       "      <td>1</td>\n",
       "      <td>3</td>\n",
       "      <td>Frost or ice</td>\n",
       "      <td>Single carriageway</td>\n",
       "      <td>Rural</td>\n",
       "      <td>Fine no high winds</td>\n",
       "      <td>Car</td>\n",
       "    </tr>\n",
       "    <tr>\n",
       "      <th>660677</th>\n",
       "      <td>201091NM01964</td>\n",
       "      <td>Serious</td>\n",
       "      <td>23-02-2022</td>\n",
       "      <td>57.214898</td>\n",
       "      <td>Darkness - no lighting</td>\n",
       "      <td>Highland</td>\n",
       "      <td>-3.823997</td>\n",
       "      <td>1</td>\n",
       "      <td>2</td>\n",
       "      <td>Wet or damp</td>\n",
       "      <td>Single carriageway</td>\n",
       "      <td>Rural</td>\n",
       "      <td>Fine no high winds</td>\n",
       "      <td>Motorcycle over 500cc</td>\n",
       "    </tr>\n",
       "    <tr>\n",
       "      <th>660678</th>\n",
       "      <td>201091NM02142</td>\n",
       "      <td>Serious</td>\n",
       "      <td>28-02-2022</td>\n",
       "      <td>57.575210</td>\n",
       "      <td>Daylight</td>\n",
       "      <td>Highland</td>\n",
       "      <td>-3.895673</td>\n",
       "      <td>1</td>\n",
       "      <td>1</td>\n",
       "      <td>Wet or damp</td>\n",
       "      <td>Dual carriageway</td>\n",
       "      <td>Rural</td>\n",
       "      <td>Snowing no high winds</td>\n",
       "      <td>Car</td>\n",
       "    </tr>\n",
       "  </tbody>\n",
       "</table>\n",
       "<p>660679 rows × 14 columns</p>\n",
       "</div>"
      ],
      "text/plain": [
       "                Index Accident_Severity Accident Date   Latitude  \\\n",
       "0       200701BS64157           Serious      5/6/2019  51.506187   \n",
       "1       200701BS65737           Serious      2/7/2019  51.495029   \n",
       "2       200701BS66127           Serious    26-08-2019  51.517715   \n",
       "3       200701BS66128           Serious    16-08-2019  51.495478   \n",
       "4       200701BS66837            Slight      3/9/2019  51.488576   \n",
       "...               ...               ...           ...        ...   \n",
       "660674  201091NM01760            Slight    18-02-2022  57.374005   \n",
       "660675  201091NM01881            Slight    21-02-2022  57.232273   \n",
       "660676  201091NM01935            Slight    23-02-2022  57.585044   \n",
       "660677  201091NM01964           Serious    23-02-2022  57.214898   \n",
       "660678  201091NM02142           Serious    28-02-2022  57.575210   \n",
       "\n",
       "                   Light_Conditions           District Area  Longitude  \\\n",
       "0             Darkness - lights lit  Kensington and Chelsea  -0.209082   \n",
       "1                          Daylight  Kensington and Chelsea  -0.173647   \n",
       "2       Darkness - lighting unknown  Kensington and Chelsea  -0.210215   \n",
       "3                          Daylight  Kensington and Chelsea  -0.202731   \n",
       "4             Darkness - lights lit  Kensington and Chelsea  -0.192487   \n",
       "...                             ...                     ...        ...   \n",
       "660674                     Daylight                Highland  -3.467828   \n",
       "660675       Darkness - no lighting                Highland  -3.809281   \n",
       "660676                     Daylight                Highland  -3.862727   \n",
       "660677       Darkness - no lighting                Highland  -3.823997   \n",
       "660678                     Daylight                Highland  -3.895673   \n",
       "\n",
       "        Number_of_Casualties  Number_of_Vehicles Road_Surface_Conditions  \\\n",
       "0                          1                   2                     Dry   \n",
       "1                          1                   2             Wet or damp   \n",
       "2                          1                   3                     Dry   \n",
       "3                          1                   4                     Dry   \n",
       "4                          1                   2                     Dry   \n",
       "...                      ...                 ...                     ...   \n",
       "660674                     2                   1                     Dry   \n",
       "660675                     1                   1            Frost or ice   \n",
       "660676                     1                   3            Frost or ice   \n",
       "660677                     1                   2             Wet or damp   \n",
       "660678                     1                   1             Wet or damp   \n",
       "\n",
       "                 Road_Type Urban_or_Rural_Area     Weather_Conditions  \\\n",
       "0       Single carriageway               Urban     Fine no high winds   \n",
       "1       Single carriageway               Urban  Raining no high winds   \n",
       "2                      NaN               Urban                    NaN   \n",
       "3       Single carriageway               Urban     Fine no high winds   \n",
       "4                      NaN               Urban                    NaN   \n",
       "...                    ...                 ...                    ...   \n",
       "660674  Single carriageway               Rural     Fine no high winds   \n",
       "660675  Single carriageway               Rural     Fine no high winds   \n",
       "660676  Single carriageway               Rural     Fine no high winds   \n",
       "660677  Single carriageway               Rural     Fine no high winds   \n",
       "660678    Dual carriageway               Rural  Snowing no high winds   \n",
       "\n",
       "                                Vehicle_Type  \n",
       "0                                        Car  \n",
       "1                                        Car  \n",
       "2                      Taxi/Private hire car  \n",
       "3       Bus or coach (17 or more pass seats)  \n",
       "4                              Other vehicle  \n",
       "...                                      ...  \n",
       "660674                                   Car  \n",
       "660675                                   Car  \n",
       "660676                                   Car  \n",
       "660677                 Motorcycle over 500cc  \n",
       "660678                                   Car  \n",
       "\n",
       "[660679 rows x 14 columns]"
      ]
     },
     "execution_count": 3,
     "metadata": {},
     "output_type": "execute_result"
    }
   ],
   "source": [
    "accidents = pd.read_csv('datasets\\\\uk_road_accident.csv')\n",
    "accidents"
   ]
  },
  {
   "cell_type": "markdown",
   "id": "6b2e2acf-9423-4c48-bf83-0b7723ecfcc5",
   "metadata": {},
   "source": [
    "<h3>Checking for Null Values</h3>"
   ]
  },
  {
   "cell_type": "code",
   "execution_count": null,
   "id": "11223084-87e4-489b-9ad1-4ac783d5086a",
   "metadata": {},
   "outputs": [],
   "source": [
    "accidents.isnull().sum()"
   ]
  },
  {
   "cell_type": "code",
   "execution_count": null,
   "id": "3be3b9ba-9523-4f90-8f70-d3de0c405bec",
   "metadata": {},
   "outputs": [],
   "source": [
    "accidents['Latitude'] = accidents['Latitude'].fillna(accidents['Latitude'].mean())\n",
    "accidents['Longitude'] = accidents['Longitude'].fillna(accidents['Longitude'].mean())\n",
    "accidents['Road_Surface_Conditions'] = accidents['Road_Surface_Conditions'].fillna('unaccounted')\n",
    "accidents['Road_Type'] = accidents['Road_Type'].fillna(accidents['Road_Type'].mode()[0])\n",
    "accidents['Urban_or_Rural_Area'] = accidents['Urban_or_Rural_Area'].fillna(accidents['Urban_or_Rural_Area'].mode()[0])\n",
    "accidents['Weather_Conditions'] = accidents['Weather_Conditions'].fillna(accidents['Weather_Conditions'].mode()[0])\n",
    "\n",
    "accidents.isnull().sum()"
   ]
  },
  {
   "cell_type": "markdown",
   "id": "ebc0c7cd-0316-4bd3-bf6e-42b93cb97963",
   "metadata": {},
   "source": [
    "<h3>Clearing inconsistencies with the Data Set</h3>"
   ]
  },
  {
   "cell_type": "code",
   "execution_count": null,
   "id": "b84abfef-d029-4e2b-96e7-df6a4ff863ae",
   "metadata": {},
   "outputs": [],
   "source": [
    "accidents['Accident Date'] = accidents['Accident Date'].str.strip()\n",
    "accidents['Accident Date'] = accidents['Accident Date'].astype('str')\n",
    "accidents['Accident Date'] = accidents['Accident Date'].str.replace('/', '-')"
   ]
  },
  {
   "cell_type": "code",
   "execution_count": 11,
   "id": "89d03f6f-48f3-4d38-bcbb-efd020c91012",
   "metadata": {},
   "outputs": [],
   "source": [
    "accidents['Accident Date'] = pd.to_datetime(accidents['Accident Date'], dayfirst= True, errors= 'coerce')"
   ]
  },
  {
   "cell_type": "markdown",
   "id": "e9d2d7b7-eeae-4840-81ba-ded77ca76953",
   "metadata": {},
   "source": [
    "<h3>Changing to data types to category</h3>"
   ]
  },
  {
   "cell_type": "code",
   "execution_count": 12,
   "id": "b7cf2307-383d-47a7-a227-ba6c3db0bd85",
   "metadata": {},
   "outputs": [
    {
     "data": {
      "text/plain": [
       "Index                              object\n",
       "Accident_Severity                  object\n",
       "Accident Date              datetime64[ns]\n",
       "Latitude                          float64\n",
       "Light_Conditions                   object\n",
       "District Area                      object\n",
       "Longitude                         float64\n",
       "Number_of_Casualties                int64\n",
       "Number_of_Vehicles                  int64\n",
       "Road_Surface_Conditions            object\n",
       "Road_Type                          object\n",
       "Urban_or_Rural_Area                object\n",
       "Weather_Conditions                 object\n",
       "Vehicle_Type                       object\n",
       "dtype: object"
      ]
     },
     "execution_count": 12,
     "metadata": {},
     "output_type": "execute_result"
    }
   ],
   "source": [
    "accidents.dtypes"
   ]
  },
  {
   "cell_type": "markdown",
   "id": "c6fa463d-b06f-4050-81a6-3edb8a10a3cd",
   "metadata": {},
   "source": [
    "<h3>Categorical Data Fields</h3>"
   ]
  },
  {
   "cell_type": "code",
   "execution_count": 14,
   "id": "e72bff39-8ea2-4b8a-87dc-a9ac14a27a53",
   "metadata": {},
   "outputs": [
    {
     "data": {
      "text/plain": [
       "Index                              object\n",
       "Accident_Severity                category\n",
       "Accident Date              datetime64[ns]\n",
       "Latitude                          float64\n",
       "Light_Conditions                 category\n",
       "District Area                    category\n",
       "Longitude                         float64\n",
       "Number_of_Casualties                int64\n",
       "Number_of_Vehicles                  int64\n",
       "Road_Surface_Conditions          category\n",
       "Road_Type                        category\n",
       "Urban_or_Rural_Area              category\n",
       "Weather_Conditions               category\n",
       "Vehicle_Type                     category\n",
       "dtype: object"
      ]
     },
     "execution_count": 14,
     "metadata": {},
     "output_type": "execute_result"
    }
   ],
   "source": [
    "accidents['Accident_Severity'] = accidents['Accident_Severity'].astype('category')\n",
    "accidents['Light_Conditions'] = accidents['Light_Conditions'].astype('category')\n",
    "accidents['District Area'] = accidents['District Area'].astype('category')\n",
    "accidents['Road_Surface_Conditions'] = accidents['Road_Surface_Conditions'].astype('category')\n",
    "accidents['Road_Type'] = accidents['Road_Type'].astype('category')\n",
    "accidents['Urban_or_Rural_Area'] = accidents['Urban_or_Rural_Area'].astype('category')\n",
    "accidents['Weather_Conditions'] = accidents['Weather_Conditions'].astype('category')\n",
    "accidents['Vehicle_Type'] = accidents['Vehicle_Type'].astype('category')\n",
    "\n",
    "# check for changes\n",
    "accidents.dtypes"
   ]
  },
  {
   "cell_type": "markdown",
   "id": "5f9d6684-44ad-4034-a97c-51b0edac826c",
   "metadata": {},
   "source": [
    "<h3>Making the date information as part of the dataset so we can extract data information</h3>"
   ]
  },
  {
   "cell_type": "code",
   "execution_count": 66,
   "id": "3549dec0-15e1-4b37-a0fe-7d28b1036049",
   "metadata": {},
   "outputs": [
    {
     "data": {
      "text/plain": [
       "Index                              object\n",
       "Accident_Severity                category\n",
       "Accident Date              datetime64[ns]\n",
       "Latitude                          float64\n",
       "Light_Conditions                 category\n",
       "District Area                    category\n",
       "Longitude                         float64\n",
       "Number_of_Casualties                int64\n",
       "Number_of_Vehicles                  int64\n",
       "Road_Surface_Conditions          category\n",
       "Road_Type                        category\n",
       "Urban_or_Rural_Area              category\n",
       "Weather_Conditions               category\n",
       "Vehicle_Type                     category\n",
       "Year                              float64\n",
       "Month                             float64\n",
       "Day                               float64\n",
       "DayOfWeek                         float64\n",
       "dtype: object"
      ]
     },
     "execution_count": 66,
     "metadata": {},
     "output_type": "execute_result"
    }
   ],
   "source": [
    "accidents['Year'] = accidents['Accident Date'].dt.year\n",
    "accidents['Month'] = accidents['Accident Date'].dt.month\n",
    "accidents['Day'] = accidents['Accident Date'].dt.day\n",
    "accidents['DayOfWeek'] = accidents['Accident Date'].dt.dayofweek #MONDAY=0 #SUNDAY=6\n",
    "\n",
    "accidents.dtypes"
   ]
  },
  {
   "cell_type": "markdown",
   "id": "8cc352d8-e942-4fe2-b4e5-28a82f84600f",
   "metadata": {},
   "source": [
    "<h1>Questions</h1>"
   ]
  },
  {
   "cell_type": "markdown",
   "id": "9dadc3fe-d402-441f-b5fb-d2b0a6443796",
   "metadata": {},
   "source": [
    "<h3>1. How many accidents are recorded in the dataset?</h3>"
   ]
  },
  {
   "cell_type": "code",
   "execution_count": 15,
   "id": "688ec1c1-de57-4c77-8b71-c11bbbea70da",
   "metadata": {},
   "outputs": [
    {
     "data": {
      "text/plain": [
       "np.int64(660679)"
      ]
     },
     "execution_count": 15,
     "metadata": {},
     "output_type": "execute_result"
    }
   ],
   "source": [
    "accidents['Index'].count()"
   ]
  },
  {
   "cell_type": "markdown",
   "id": "fe2d8725-c6da-4d32-b9b6-fc73985cd003",
   "metadata": {},
   "source": [
    "<h3>Insight 1: As shown above, There are 660,679 record accidents in this dataset.</h3>"
   ]
  },
  {
   "cell_type": "markdown",
   "id": "c5c62f2d-2106-4530-a160-263d13d166d7",
   "metadata": {},
   "source": [
    "<h3>2. What is the most common accident severity?</h3>"
   ]
  },
  {
   "cell_type": "code",
   "execution_count": 18,
   "id": "24c66016-a523-4eb1-bbfc-3e6c6fbf8831",
   "metadata": {},
   "outputs": [
    {
     "data": {
      "text/plain": [
       "0    Slight\n",
       "Name: Accident_Severity, dtype: category\n",
       "Categories (3, object): ['Fatal', 'Serious', 'Slight']"
      ]
     },
     "execution_count": 18,
     "metadata": {},
     "output_type": "execute_result"
    }
   ],
   "source": [
    "accidents['Accident_Severity'].mode()"
   ]
  },
  {
   "cell_type": "markdown",
   "id": "64b430c6-020e-40b0-96ff-67d88b0498b3",
   "metadata": {},
   "source": [
    "<h3>Insight 2: As shown above, The most common accident severity is \"Slight\"</h3>"
   ]
  },
  {
   "cell_type": "markdown",
   "id": "fceb6930-e673-43ea-ae35-20106f0f1d94",
   "metadata": {},
   "source": [
    "<h3>3. What is the most common road surface condition during accidents?</h3>"
   ]
  },
  {
   "cell_type": "code",
   "execution_count": 19,
   "id": "c44ef8c7-84ed-411a-a03c-b2559cf85f7d",
   "metadata": {},
   "outputs": [
    {
     "data": {
      "text/plain": [
       "0    Dry\n",
       "Name: Road_Surface_Conditions, dtype: category\n",
       "Categories (5, object): ['Dry', 'Flood over 3cm. deep', 'Frost or ice', 'Snow', 'Wet or damp']"
      ]
     },
     "execution_count": 19,
     "metadata": {},
     "output_type": "execute_result"
    }
   ],
   "source": [
    "accidents['Road_Surface_Conditions'].mode()"
   ]
  },
  {
   "cell_type": "markdown",
   "id": "a3ee63d6-fb34-40cd-9f2b-e9b2b8087b37",
   "metadata": {},
   "source": [
    "<h3>Insight 3: The most common road surface condition during accidents is Dry. This suggests that accidents don’t only happen in bad weather, even normal road conditions can be risky.</h3>"
   ]
  },
  {
   "cell_type": "markdown",
   "id": "6f96f312-8573-4707-9305-b7cefeaf66bb",
   "metadata": {},
   "source": [
    "<h3>4. What are the most common vehicle types involved in accidents?</h3>"
   ]
  },
  {
   "cell_type": "code",
   "execution_count": 21,
   "id": "00e5bb4e-9091-49dc-aad8-1b5202606d0e",
   "metadata": {},
   "outputs": [
    {
     "data": {
      "text/plain": [
       "Vehicle_Type\n",
       "Agricultural vehicle                       1947\n",
       "Bus or coach (17 or more pass seats)      25878\n",
       "Car                                      497992\n",
       "Data missing or out of range                  6\n",
       "Goods 7.5 tonnes mgw and over             17307\n",
       "Goods over 3.5t. and under 7.5t            6096\n",
       "Minibus (8 - 16 passenger seats)           1976\n",
       "Motorcycle 125cc and under                15269\n",
       "Motorcycle 50cc and under                  7603\n",
       "Motorcycle over 125cc and up to 500cc      7656\n",
       "Motorcycle over 500cc                     25657\n",
       "Other vehicle                              5637\n",
       "Pedal cycle                                 197\n",
       "Ridden horse                                  4\n",
       "Taxi/Private hire car                     13294\n",
       "Van / Goods 3.5 tonnes mgw or under       34160\n",
       "Name: Index, dtype: int64"
      ]
     },
     "execution_count": 21,
     "metadata": {},
     "output_type": "execute_result"
    }
   ],
   "source": [
    "vehicle_counts = accidents.groupby('Vehicle_Type')['Index'].count()\n",
    "vehicle_counts"
   ]
  },
  {
   "cell_type": "markdown",
   "id": "f9304ad2-cee9-4642-9a2c-afb11edfccff",
   "metadata": {},
   "source": [
    "<h3>Insight 4: The most common vehicle type involved in accidents is obviously Cars, while Cars are the most common type, the other types such as Motorcycles over 500, Motorcycles 125cc and under, Taxi/Private cars and Buses are also frequently recorded.</h3>"
   ]
  },
  {
   "cell_type": "markdown",
   "id": "c721438b-e755-481b-8763-233cd74d8322",
   "metadata": {},
   "source": [
    "<h3>5. How many accidents happened in Urban vs Rural areas?)</h3>"
   ]
  },
  {
   "cell_type": "code",
   "execution_count": 24,
   "id": "290574d7-e492-4510-a9be-83413d678e11",
   "metadata": {},
   "outputs": [
    {
     "data": {
      "text/plain": [
       "Urban_or_Rural_Area\n",
       "Rural          238990\n",
       "Unallocated        11\n",
       "Urban          421663\n",
       "Name: Index, dtype: int64"
      ]
     },
     "execution_count": 24,
     "metadata": {},
     "output_type": "execute_result"
    }
   ],
   "source": [
    "urban_rural = accidents.groupby('Urban_or_Rural_Area')['Index'].count()\n",
    "urban_rural"
   ]
  },
  {
   "cell_type": "markdown",
   "id": "885723ab-4d9f-4364-aadc-20e70a7636e1",
   "metadata": {},
   "source": [
    "<h3>Insight 5: As shown above, The Urban area have 421,678 total accidents, while Rural area have 238,990 total accidents. Obviously, most accidents occur in the Urban areas compared to Rural ones.</h3>"
   ]
  },
  {
   "cell_type": "markdown",
   "id": "b58d85f7-6af9-48fb-8af9-f251098f45dd",
   "metadata": {},
   "source": [
    "<h3>6. How many accidents happened in Urban vs Rural areas?)</h3>"
   ]
  },
  {
   "cell_type": "code",
   "execution_count": 45,
   "id": "c66962f3-afcd-47ed-9df7-23622429f2d9",
   "metadata": {},
   "outputs": [
    {
     "data": {
      "text/plain": [
       "District Area\n",
       "Birmingham          13491\n",
       "Leeds                8898\n",
       "Manchester           6720\n",
       "Bradford             6212\n",
       "Sheffield            5710\n",
       "Westminster          5706\n",
       "Liverpool            5587\n",
       "Glasgow City         4942\n",
       "Bristol, City of     4819\n",
       "Kirklees             4690\n",
       "Name: Index, dtype: int64"
      ]
     },
     "execution_count": 45,
     "metadata": {},
     "output_type": "execute_result"
    }
   ],
   "source": [
    "accidents.groupby('District Area')['Index'].count().nlargest(10)"
   ]
  },
  {
   "cell_type": "markdown",
   "id": "cd589167-7a44-415d-aeb1-62caeb54c88a",
   "metadata": {},
   "source": [
    "<h3>Insight 6: Birmingham had the most accidents with 13,491 recorded accident, which is way higher compared to Leeds and Manchester.</h3>\n",
    "<h3>Insight 7: Most of the top districts are big cities, so it makes sense because there are more cars, more people, and heavier traffic, meaning accidents are more likely to happen there.</h3>"
   ]
  },
  {
   "cell_type": "markdown",
   "id": "c4f60791-f841-4b27-878d-cf1614ca8e5b",
   "metadata": {},
   "source": [
    "<h3>7. Which road surface condition has the highest number of accidents?</h3>"
   ]
  },
  {
   "cell_type": "code",
   "execution_count": 52,
   "id": "442e36fd-54c4-4877-a133-97cbbf399f0e",
   "metadata": {},
   "outputs": [
    {
     "data": {
      "text/plain": [
       "Road_Surface_Conditions\n",
       "Dry                     447821\n",
       "Flood over 3cm. deep      1017\n",
       "Frost or ice             18517\n",
       "Snow                      5890\n",
       "Wet or damp             186708\n",
       "Name: Index, dtype: int64"
      ]
     },
     "execution_count": 52,
     "metadata": {},
     "output_type": "execute_result"
    }
   ],
   "source": [
    "accidents.groupby('Road_Surface_Conditions')['Index'].count()"
   ]
  },
  {
   "cell_type": "markdown",
   "id": "aa4c6259-ec7c-446b-aa9c-b4e7816e0f00",
   "metadata": {},
   "source": [
    "<h3>Insight 8: Most accidents happen on Dry roads, showing that accidents aren’t only caused by bad weather but also by driver behavior.</h3>"
   ]
  },
  {
   "cell_type": "markdown",
   "id": "da4ee1a4-82ec-4604-b2b3-d6cf200c7db4",
   "metadata": {},
   "source": [
    "<h3>8. How many accidents happened under different light conditions</h3>"
   ]
  },
  {
   "cell_type": "code",
   "execution_count": 55,
   "id": "f9227b03-9dd9-428d-819a-251043572930",
   "metadata": {},
   "outputs": [
    {
     "data": {
      "text/plain": [
       "Light_Conditions\n",
       "Darkness - lighting unknown      6484\n",
       "Darkness - lights lit          129335\n",
       "Darkness - lights unlit          2543\n",
       "Darkness - no lighting          37437\n",
       "Daylight                       484880\n",
       "dtype: int64"
      ]
     },
     "execution_count": 55,
     "metadata": {},
     "output_type": "execute_result"
    }
   ],
   "source": [
    "accidents.groupby('Light_Conditions').size()"
   ]
  },
  {
   "cell_type": "markdown",
   "id": "de54d323-896c-48b0-988d-bafefac12d9b",
   "metadata": {},
   "source": [
    "<h3>Insight 9: The most accidents happen in daylight, which may be due to higher traffic volumes during the day rather than poor visibility at night.</h3>"
   ]
  },
  {
   "cell_type": "markdown",
   "id": "72820e7e-e1f1-4d01-a43d-df20cdd2b199",
   "metadata": {},
   "source": [
    "<h3>9. What is the most common weather condition during accidents?</h3>"
   ]
  },
  {
   "cell_type": "code",
   "execution_count": 59,
   "id": "c0e8b8c3-6dc6-4105-8f01-491aeb07dc81",
   "metadata": {},
   "outputs": [
    {
     "data": {
      "text/plain": [
       "Weather_Conditions\n",
       "Fine + high winds          8554\n",
       "Fine no high winds       520885\n",
       "Fog or mist                3528\n",
       "Other                     17150\n",
       "Raining + high winds       9615\n",
       "Raining no high winds     79696\n",
       "Snowing + high winds        885\n",
       "Snowing no high winds      6238\n",
       "Name: Index, dtype: int64"
      ]
     },
     "execution_count": 59,
     "metadata": {},
     "output_type": "execute_result"
    }
   ],
   "source": [
    "accidents.groupby('Weather_Conditions')['Index'].count()"
   ]
  },
  {
   "cell_type": "markdown",
   "id": "d92a4df6-90d7-4b2e-be58-ec4388f83851",
   "metadata": {},
   "source": [
    "<h3>Insight 10: The most common weather condition of accidents happen in fine weather with no high winds with over 500,000 recorded. This shows that good weather does not guarantee safety, accidents are more strongly linked to traffic and driver behavior than to poor weather.</h3>\n",
    "<h3>Insight 11: Next to the most common weather condition is Raining no high winds. This highlights the added risk of reduced visibility and slippery roads.</h3>"
   ]
  },
  {
   "cell_type": "markdown",
   "id": "0e9290c5-f58b-49b6-884c-07673a790669",
   "metadata": {},
   "source": [
    "<h3>10. What is the average number of casualties per accident?</h3>"
   ]
  },
  {
   "cell_type": "code",
   "execution_count": 63,
   "id": "1a6b28c0-640c-4e4c-9ce7-5f336f9d132a",
   "metadata": {},
   "outputs": [
    {
     "data": {
      "text/plain": [
       "np.float64(1.357040257068864)"
      ]
     },
     "execution_count": 63,
     "metadata": {},
     "output_type": "execute_result"
    }
   ],
   "source": [
    "accidents['Number_of_Casualties'].mean()"
   ]
  },
  {
   "cell_type": "markdown",
   "id": "398cd26c-9f5b-40a3-8bf0-e5c28db55049",
   "metadata": {},
   "source": [
    "<h3>Insight 12: On average, each accident involves about 1–2 casualties, showing that while most accidents result in few casualties, the numbers add up significantly across all incidents.</h3>"
   ]
  },
  {
   "cell_type": "markdown",
   "id": "e8558c5a-c3d6-425c-a272-32a2369db73a",
   "metadata": {},
   "source": [
    "<h3>11. What is the average number of vehicles involved in accidents across all records?</h3>"
   ]
  },
  {
   "cell_type": "code",
   "execution_count": 65,
   "id": "5c740ad4-9053-4afb-bac3-5ebc5f772359",
   "metadata": {},
   "outputs": [
    {
     "data": {
      "text/plain": [
       "np.float64(1.8312554205597575)"
      ]
     },
     "execution_count": 65,
     "metadata": {},
     "output_type": "execute_result"
    }
   ],
   "source": [
    "accidents['Number_of_Vehicles'].mean()"
   ]
  },
  {
   "cell_type": "markdown",
   "id": "4dd6dd53-7247-4a35-8dea-e70de2a5f290",
   "metadata": {},
   "source": [
    "<h3>Insight 13: On average, each accident involves about 1–2 casualties, showing that while most accidents result in few casualties, the numbers add up significantly across all incidents.</h3>"
   ]
  },
  {
   "cell_type": "markdown",
   "id": "9d7b9163-7a2a-46c8-9859-3fc2363c9e18",
   "metadata": {},
   "source": [
    "<h3>12. Which year had the most reported accidents?</h3>"
   ]
  },
  {
   "cell_type": "code",
   "execution_count": 70,
   "id": "d3b6964c-b08c-4975-be6b-6dfd9cad421d",
   "metadata": {},
   "outputs": [
    {
     "data": {
      "text/plain": [
       "Year\n",
       "2019.0    71867\n",
       "2020.0    70163\n",
       "2021.0    66172\n",
       "2022.0    56805\n",
       "Name: Index, dtype: int64"
      ]
     },
     "execution_count": 70,
     "metadata": {},
     "output_type": "execute_result"
    }
   ],
   "source": [
    "accidents.groupby('Year')['Index'].count()"
   ]
  },
  {
   "cell_type": "markdown",
   "id": "f5ba2445-023a-4763-ac89-e1295c01f3bd",
   "metadata": {},
   "source": [
    "<h3>Insight 14: 2019 had the highest reported accidents (71,867), meaning road safety issues were most critical before the pandemic.</h3>\n",
    "<h3>Insight 15: Accidents decreased in 2020 (70,163). Likely influenced by COVID-19 lockdowns</h3>\n",
    "<h3>Insight 16: 2021 continued the downward trend (66,172), showing that even with partial reopening, road usage was still lower than pre-pandemic.</h3>\n",
    "<h3>Insight 17: A2022 recorded the lowest accidents (56,805), which could indicate lasting effects of pandemic lifestyle changes or improved safety measures.</h3>"
   ]
  },
  {
   "cell_type": "markdown",
   "id": "5a9fd250-ccde-4b04-b1d5-c36a880c8444",
   "metadata": {},
   "source": [
    "<h3>13. Which month across all years recorded the highest number of accidents?</h3>"
   ]
  },
  {
   "cell_type": "code",
   "execution_count": 71,
   "id": "90ab8dfa-be13-42b9-9d65-41388c5858b5",
   "metadata": {},
   "outputs": [
    {
     "data": {
      "text/plain": [
       "Month\n",
       "1.0     18252\n",
       "2.0     22264\n",
       "3.0     21824\n",
       "4.0     19787\n",
       "5.0     21723\n",
       "6.0     22196\n",
       "7.0     22939\n",
       "8.0     21106\n",
       "9.0     22558\n",
       "10.0    23962\n",
       "11.0    24240\n",
       "12.0    24156\n",
       "Name: Index, dtype: int64"
      ]
     },
     "execution_count": 71,
     "metadata": {},
     "output_type": "execute_result"
    }
   ],
   "source": [
    "accidents.groupby('Month')['Index'].count()"
   ]
  },
  {
   "cell_type": "markdown",
   "id": "b8f1c84c-6765-40af-aa4c-0fd154b8ee01",
   "metadata": {},
   "source": [
    "<h3>Insight 18: November (24,240 accidents) recorded the highest number of accidents. This could be linked to seasonal changes such as early winter conditions, shorter daylight hours, or increased traffic due to holiday preparations.</h3>\n",
    "\n",
    "<h3>Insight 19: January (18,252 accidents) had the lowest number of accidents. This might be because of reduced travel after the holiday season or colder weather discouraging long-distance trips.</h3>"
   ]
  },
  {
   "cell_type": "markdown",
   "id": "78f0a2ee-742e-4112-89bd-f66c2e1986fa",
   "metadata": {},
   "source": [
    "<h3>13. Which day of the week had the most reported accidents?</h3>"
   ]
  },
  {
   "cell_type": "code",
   "execution_count": 73,
   "id": "4dc2c0df-aee5-47eb-bad2-6679bc0b5dc6",
   "metadata": {},
   "outputs": [
    {
     "data": {
      "text/plain": [
       "DayOfWeek\n",
       "0.0    28564\n",
       "1.0    38714\n",
       "2.0    40037\n",
       "3.0    39641\n",
       "4.0    39822\n",
       "5.0    43164\n",
       "6.0    35065\n",
       "Name: Index, dtype: int64"
      ]
     },
     "execution_count": 73,
     "metadata": {},
     "output_type": "execute_result"
    }
   ],
   "source": [
    "accidents.groupby('DayOfWeek')['Index'].count() # MONDAY = 0, SUNDAY = 6"
   ]
  },
  {
   "cell_type": "markdown",
   "id": "35f4e271-d00e-443d-8759-eafd3c19551c",
   "metadata": {},
   "source": [
    "<h3>Insight 20: Saturday (5) recorded the highest number of accidents with 43,164 cases. This suggests that weekends, when more people may be traveling for leisure, social activities, or long drives, are riskier times on the road.</h3>\n",
    "\n",
    "<h3>Insight 21: Monday (0) had the lowest number of accidents with 28,564 cases. This could mean that at the start of the work week, people may be more cautious, or traffic patterns are more predictable compared to weekends.</h3>"
   ]
  }
 ],
 "metadata": {
  "kernelspec": {
   "display_name": "Python 3 (ipykernel)",
   "language": "python",
   "name": "python3"
  },
  "language_info": {
   "codemirror_mode": {
    "name": "ipython",
    "version": 3
   },
   "file_extension": ".py",
   "mimetype": "text/x-python",
   "name": "python",
   "nbconvert_exporter": "python",
   "pygments_lexer": "ipython3",
   "version": "3.13.6"
  }
 },
 "nbformat": 4,
 "nbformat_minor": 5
}
